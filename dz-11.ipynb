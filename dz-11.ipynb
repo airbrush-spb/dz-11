{
 "cells": [
  {
   "cell_type": "code",
   "execution_count": 1,
   "metadata": {},
   "outputs": [],
   "source": [
    "import pandas as pd"
   ]
  },
  {
   "cell_type": "markdown",
   "metadata": {},
   "source": [
    "Задание 1\n",
    "\n",
    "Скачайте с сайта датасет любого размера. Определите какому фильму было выставлено больше всего оценок 5.0."
   ]
  },
  {
   "cell_type": "code",
   "execution_count": 4,
   "metadata": {},
   "outputs": [
    {
     "data": {
      "text/html": [
       "<div>\n",
       "<style scoped>\n",
       "    .dataframe tbody tr th:only-of-type {\n",
       "        vertical-align: middle;\n",
       "    }\n",
       "\n",
       "    .dataframe tbody tr th {\n",
       "        vertical-align: top;\n",
       "    }\n",
       "\n",
       "    .dataframe thead th {\n",
       "        text-align: right;\n",
       "    }\n",
       "</style>\n",
       "<table border=\"1\" class=\"dataframe\">\n",
       "  <thead>\n",
       "    <tr style=\"text-align: right;\">\n",
       "      <th></th>\n",
       "      <th>userId</th>\n",
       "      <th>movieId</th>\n",
       "      <th>rating</th>\n",
       "      <th>timestamp</th>\n",
       "    </tr>\n",
       "  </thead>\n",
       "  <tbody>\n",
       "    <tr>\n",
       "      <th>0</th>\n",
       "      <td>1</td>\n",
       "      <td>296</td>\n",
       "      <td>5.0</td>\n",
       "      <td>1147880044</td>\n",
       "    </tr>\n",
       "    <tr>\n",
       "      <th>1</th>\n",
       "      <td>1</td>\n",
       "      <td>306</td>\n",
       "      <td>3.5</td>\n",
       "      <td>1147868817</td>\n",
       "    </tr>\n",
       "    <tr>\n",
       "      <th>2</th>\n",
       "      <td>1</td>\n",
       "      <td>307</td>\n",
       "      <td>5.0</td>\n",
       "      <td>1147868828</td>\n",
       "    </tr>\n",
       "    <tr>\n",
       "      <th>3</th>\n",
       "      <td>1</td>\n",
       "      <td>665</td>\n",
       "      <td>5.0</td>\n",
       "      <td>1147878820</td>\n",
       "    </tr>\n",
       "    <tr>\n",
       "      <th>4</th>\n",
       "      <td>1</td>\n",
       "      <td>899</td>\n",
       "      <td>3.5</td>\n",
       "      <td>1147868510</td>\n",
       "    </tr>\n",
       "  </tbody>\n",
       "</table>\n",
       "</div>"
      ],
      "text/plain": [
       "   userId  movieId  rating   timestamp\n",
       "0       1      296     5.0  1147880044\n",
       "1       1      306     3.5  1147868817\n",
       "2       1      307     5.0  1147868828\n",
       "3       1      665     5.0  1147878820\n",
       "4       1      899     3.5  1147868510"
      ]
     },
     "execution_count": 4,
     "metadata": {},
     "output_type": "execute_result"
    }
   ],
   "source": [
    "rating=pd.read_csv('ratings.csv')\n",
    "rating.head(5)"
   ]
  },
  {
   "cell_type": "code",
   "execution_count": 3,
   "metadata": {},
   "outputs": [
    {
     "data": {
      "text/plain": [
       "318    39553\n",
       "Name: movieId, dtype: int64"
      ]
     },
     "execution_count": 3,
     "metadata": {},
     "output_type": "execute_result"
    }
   ],
   "source": [
    "rating[rating['rating']==5.0]['movieId'].value_counts().head(1)"
   ]
  },
  {
   "cell_type": "markdown",
   "metadata": {},
   "source": [
    "Задание 2\n",
    "\n",
    "По данным файла power.csv посчитайте суммарное потребление стран Прибалтики \n",
    "(Латвия, Литва и Эстония) категорий 4, 12 и 21 за период с 2005 по 2010 года. \n",
    "Не учитывайте в расчетах отрицательные значения quantity."
   ]
  },
  {
   "cell_type": "code",
   "execution_count": 5,
   "metadata": {},
   "outputs": [
    {
     "data": {
      "text/html": [
       "<div>\n",
       "<style scoped>\n",
       "    .dataframe tbody tr th:only-of-type {\n",
       "        vertical-align: middle;\n",
       "    }\n",
       "\n",
       "    .dataframe tbody tr th {\n",
       "        vertical-align: top;\n",
       "    }\n",
       "\n",
       "    .dataframe thead th {\n",
       "        text-align: right;\n",
       "    }\n",
       "</style>\n",
       "<table border=\"1\" class=\"dataframe\">\n",
       "  <thead>\n",
       "    <tr style=\"text-align: right;\">\n",
       "      <th></th>\n",
       "      <th>country</th>\n",
       "      <th>year</th>\n",
       "      <th>quantity</th>\n",
       "      <th>category</th>\n",
       "    </tr>\n",
       "  </thead>\n",
       "  <tbody>\n",
       "    <tr>\n",
       "      <th>0</th>\n",
       "      <td>Austria</td>\n",
       "      <td>1996</td>\n",
       "      <td>5.0</td>\n",
       "      <td>1</td>\n",
       "    </tr>\n",
       "    <tr>\n",
       "      <th>1</th>\n",
       "      <td>Austria</td>\n",
       "      <td>1995</td>\n",
       "      <td>17.0</td>\n",
       "      <td>1</td>\n",
       "    </tr>\n",
       "    <tr>\n",
       "      <th>2</th>\n",
       "      <td>Belgium</td>\n",
       "      <td>2014</td>\n",
       "      <td>0.0</td>\n",
       "      <td>1</td>\n",
       "    </tr>\n",
       "    <tr>\n",
       "      <th>3</th>\n",
       "      <td>Belgium</td>\n",
       "      <td>2013</td>\n",
       "      <td>0.0</td>\n",
       "      <td>1</td>\n",
       "    </tr>\n",
       "    <tr>\n",
       "      <th>4</th>\n",
       "      <td>Belgium</td>\n",
       "      <td>2012</td>\n",
       "      <td>35.0</td>\n",
       "      <td>1</td>\n",
       "    </tr>\n",
       "  </tbody>\n",
       "</table>\n",
       "</div>"
      ],
      "text/plain": [
       "   country  year  quantity  category\n",
       "0  Austria  1996       5.0         1\n",
       "1  Austria  1995      17.0         1\n",
       "2  Belgium  2014       0.0         1\n",
       "3  Belgium  2013       0.0         1\n",
       "4  Belgium  2012      35.0         1"
      ]
     },
     "execution_count": 5,
     "metadata": {},
     "output_type": "execute_result"
    }
   ],
   "source": [
    "power=pd.read_csv('power.csv')\n",
    "power.head(5)"
   ]
  },
  {
   "cell_type": "code",
   "execution_count": 6,
   "metadata": {},
   "outputs": [
    {
     "data": {
      "text/html": [
       "<div>\n",
       "<style scoped>\n",
       "    .dataframe tbody tr th:only-of-type {\n",
       "        vertical-align: middle;\n",
       "    }\n",
       "\n",
       "    .dataframe tbody tr th {\n",
       "        vertical-align: top;\n",
       "    }\n",
       "\n",
       "    .dataframe thead th {\n",
       "        text-align: right;\n",
       "    }\n",
       "</style>\n",
       "<table border=\"1\" class=\"dataframe\">\n",
       "  <thead>\n",
       "    <tr style=\"text-align: right;\">\n",
       "      <th></th>\n",
       "      <th>country</th>\n",
       "      <th>year</th>\n",
       "      <th>quantity</th>\n",
       "      <th>category</th>\n",
       "    </tr>\n",
       "  </thead>\n",
       "  <tbody>\n",
       "    <tr>\n",
       "      <th>9834</th>\n",
       "      <td>Swaziland</td>\n",
       "      <td>2014</td>\n",
       "      <td>0.15</td>\n",
       "      <td>4</td>\n",
       "    </tr>\n",
       "    <tr>\n",
       "      <th>9835</th>\n",
       "      <td>Swaziland</td>\n",
       "      <td>2013</td>\n",
       "      <td>0.15</td>\n",
       "      <td>4</td>\n",
       "    </tr>\n",
       "    <tr>\n",
       "      <th>9836</th>\n",
       "      <td>Swaziland</td>\n",
       "      <td>2012</td>\n",
       "      <td>0.15</td>\n",
       "      <td>4</td>\n",
       "    </tr>\n",
       "    <tr>\n",
       "      <th>9837</th>\n",
       "      <td>Swaziland</td>\n",
       "      <td>2011</td>\n",
       "      <td>0.15</td>\n",
       "      <td>4</td>\n",
       "    </tr>\n",
       "    <tr>\n",
       "      <th>9838</th>\n",
       "      <td>Swaziland</td>\n",
       "      <td>2010</td>\n",
       "      <td>0.18</td>\n",
       "      <td>4</td>\n",
       "    </tr>\n",
       "  </tbody>\n",
       "</table>\n",
       "</div>"
      ],
      "text/plain": [
       "        country  year  quantity  category\n",
       "9834  Swaziland  2014      0.15         4\n",
       "9835  Swaziland  2013      0.15         4\n",
       "9836  Swaziland  2012      0.15         4\n",
       "9837  Swaziland  2011      0.15         4\n",
       "9838  Swaziland  2010      0.18         4"
      ]
     },
     "execution_count": 6,
     "metadata": {},
     "output_type": "execute_result"
    }
   ],
   "source": [
    "fp_1=power[power.category.isin([4,12,21])]\n",
    "fp_1.head()"
   ]
  },
  {
   "cell_type": "code",
   "execution_count": 7,
   "metadata": {},
   "outputs": [
    {
     "data": {
      "text/html": [
       "<div>\n",
       "<style scoped>\n",
       "    .dataframe tbody tr th:only-of-type {\n",
       "        vertical-align: middle;\n",
       "    }\n",
       "\n",
       "    .dataframe tbody tr th {\n",
       "        vertical-align: top;\n",
       "    }\n",
       "\n",
       "    .dataframe thead th {\n",
       "        text-align: right;\n",
       "    }\n",
       "</style>\n",
       "<table border=\"1\" class=\"dataframe\">\n",
       "  <thead>\n",
       "    <tr style=\"text-align: right;\">\n",
       "      <th></th>\n",
       "      <th>country</th>\n",
       "      <th>year</th>\n",
       "      <th>quantity</th>\n",
       "      <th>category</th>\n",
       "    </tr>\n",
       "  </thead>\n",
       "  <tbody>\n",
       "    <tr>\n",
       "      <th>9838</th>\n",
       "      <td>Swaziland</td>\n",
       "      <td>2010</td>\n",
       "      <td>0.1800</td>\n",
       "      <td>4</td>\n",
       "    </tr>\n",
       "    <tr>\n",
       "      <th>9839</th>\n",
       "      <td>Swaziland</td>\n",
       "      <td>2009</td>\n",
       "      <td>0.2100</td>\n",
       "      <td>4</td>\n",
       "    </tr>\n",
       "    <tr>\n",
       "      <th>9840</th>\n",
       "      <td>Swaziland</td>\n",
       "      <td>2008</td>\n",
       "      <td>0.3100</td>\n",
       "      <td>4</td>\n",
       "    </tr>\n",
       "    <tr>\n",
       "      <th>9841</th>\n",
       "      <td>Swaziland</td>\n",
       "      <td>2007</td>\n",
       "      <td>0.3080</td>\n",
       "      <td>4</td>\n",
       "    </tr>\n",
       "    <tr>\n",
       "      <th>9842</th>\n",
       "      <td>Swaziland</td>\n",
       "      <td>2006</td>\n",
       "      <td>0.2957</td>\n",
       "      <td>4</td>\n",
       "    </tr>\n",
       "  </tbody>\n",
       "</table>\n",
       "</div>"
      ],
      "text/plain": [
       "        country  year  quantity  category\n",
       "9838  Swaziland  2010    0.1800         4\n",
       "9839  Swaziland  2009    0.2100         4\n",
       "9840  Swaziland  2008    0.3100         4\n",
       "9841  Swaziland  2007    0.3080         4\n",
       "9842  Swaziland  2006    0.2957         4"
      ]
     },
     "execution_count": 7,
     "metadata": {},
     "output_type": "execute_result"
    }
   ],
   "source": [
    "fp_2=fp_1[(fp_1['year']>=2005)&(fp_1['year']<=2010)&(fp_1['quantity']>0)]\n",
    "fp_2.head()"
   ]
  },
  {
   "cell_type": "code",
   "execution_count": 8,
   "metadata": {},
   "outputs": [
    {
     "name": "stdout",
     "output_type": "stream",
     "text": [
      "240580.0\n"
     ]
    }
   ],
   "source": [
    "summ = fp_2[fp_2.country.str.contains('|'.join(['Lat','Lit','Est']))]['quantity'].sum()\n",
    "print(summ)"
   ]
  },
  {
   "cell_type": "markdown",
   "metadata": {},
   "source": [
    "Задание 3\n",
    "\n",
    "Выберите страницу любого сайта с табличными данными. Импортируйте таблицы в pandas dataframe."
   ]
  },
  {
   "cell_type": "code",
   "execution_count": 9,
   "metadata": {},
   "outputs": [],
   "source": [
    "page_url = 'https://www.finam.ru/quotes/currencies/'\n",
    "df = pd.read_html(page_url, encoding='utf-8')"
   ]
  },
  {
   "cell_type": "code",
   "execution_count": 10,
   "metadata": {},
   "outputs": [
    {
     "data": {
      "text/plain": [
       "[    Unnamed: 0                  Èíñòðóìåíò Ïîñë. ñäåëêà % Èçì. öåíû  Îòêðûòèå  \\\n",
       " 0          NaN                     Eur/Chf   1.0787 CHF      -0.27%    1.0816   \n",
       " 1          NaN                     Eur/Jpy  126.229 JPY      -0.33%  126.6130   \n",
       " 2          NaN                     Eur/Usd     1.2146 $      -0.51%    1.2205   \n",
       " 3          NaN                     Usd/Chf   0.8881 CHF       0.23%    0.8863   \n",
       " 4          NaN                     Gbp/Usd     1.3619 $      -0.31%    1.3664   \n",
       " 5          NaN                     Usd/Jpy   103.93 JPY       0.19%  103.7700   \n",
       " 6          NaN                     Usd/Cad   1.2717 CAD       0.06%    1.2709   \n",
       " 7          NaN                     Aud/Nzd    1.076 NZD       0.04%    1.0769   \n",
       " 8          NaN             Èíäåêñ äîëëàðà*       90.4 $       0.38%   89.9800   \n",
       " 9          NaN                     Aud/Usd     0.7729 $      -0.54%    0.7770   \n",
       " 10         NaN              AMDRUB êóðñ ÖÁ         0.14      -0.01%       NaN   \n",
       " 11         NaN                     Aud/Cad   0.9828 CAD      -0.47%    0.9874   \n",
       " 12         NaN                     Aud/Chf   0.6864 CHF      -0.32%    0.6885   \n",
       " 13         NaN                     Aud/Dkk   4.7337 DKK      -0.04%    4.7345   \n",
       " 14         NaN                     Aud/Jpy   80.326 JPY      -0.35%   80.6280   \n",
       " 15         NaN                     Aud/Nok   6.5697 NOK       0.09%    6.5672   \n",
       " 16         NaN                     Aud/Sek   6.4448 SEK       0.69%    6.4011   \n",
       " 17         NaN                     Aud/Sgd   1.0256 SGD      -0.26%    1.0280   \n",
       " 18         NaN              AUDRUB êóðñ ÖÁ        57.06      -0.01%       NaN   \n",
       " 19         NaN              AZNRUB êóðñ ÖÁ        43.28      -0.01%       NaN   \n",
       " 20         NaN                     BCH-USD     474.42 $         NaN       NaN   \n",
       " 21         NaN              BGNRUB êóðñ ÖÁ        45.85      -0.01%       NaN   \n",
       " 22         NaN              Bitcoin / Euro     28488.39         NaN       NaN   \n",
       " 23         NaN       Bitcoin / U.S. dollar     34652.55         NaN       NaN   \n",
       " 24         NaN      Bitcoin Cash / Bitcoin   0.01372027         NaN       NaN   \n",
       " 25         NaN         Bitcoin Cash / Euro        391.5         NaN       NaN   \n",
       " 26         NaN  Bitcoin Cash / U.S. dollar       475.02         NaN       NaN   \n",
       " 27         NaN                  BKTRUB_TOM      39.26 ₽       0.41%       NaN   \n",
       " 28         NaN              BRLRUB êóðñ ÖÁ        13.81       0.02%       NaN   \n",
       " 29         NaN                     BTC-EUR   28529.37          NaN       NaN   \n",
       " \n",
       "        Ìàêñ.      Ìèí.     Çàêðûòèå  Îáúåì, øò.      Âðåìÿ îáí.  \n",
       " 0     1.0824    1.0784      1.08160         NaN     13.01 20:23  \n",
       " 1   126.7630  126.2150    126.64900         NaN     13.01 20:23  \n",
       " 2     1.2223    1.2140      1.22080         NaN     13.01 20:23  \n",
       " 3     0.8889    0.8850      0.88610         NaN     13.01 20:23  \n",
       " 4     1.3701    1.3612      1.36620         NaN     13.01 20:23  \n",
       " 5   104.0000  103.5300    103.73000         NaN     13.01 20:23  \n",
       " 6     1.2747    1.2704      1.27090         NaN     13.01 20:23  \n",
       " 7     1.0784    1.0737      1.07560         NaN     13.01 20:23  \n",
       " 8    90.4400   89.8900     90.06000         NaN     13.01 20:23  \n",
       " 9     0.7782    0.7722      0.77710         NaN     13.01 20:23  \n",
       " 10       NaN       NaN      0.14000         NaN     14.01 00:00  \n",
       " 11    0.9888    0.9829      0.98740         NaN     13.01 20:23  \n",
       " 12    0.6894    0.6859      0.68860         NaN     13.01 20:23  \n",
       " 13    4.7399    4.7248      4.73570         NaN     13.01 20:23  \n",
       " 14   80.7200   80.2690     80.60600         NaN     13.01 20:23  \n",
       " 15    6.5747    6.5389      6.56400         NaN     13.01 20:23  \n",
       " 16    6.4580    6.3976      6.40040         NaN     13.01 20:23  \n",
       " 17    1.0290    1.0248      1.02830         NaN     13.01 20:23  \n",
       " 18       NaN       NaN     57.34000         NaN     14.01 00:00  \n",
       " 19       NaN       NaN     43.71000         NaN     14.01 00:00  \n",
       " 20       NaN       NaN    461.97000         NaN     13.01 20:23  \n",
       " 21       NaN       NaN     46.17000         NaN     14.01 00:00  \n",
       " 22       NaN       NaN  28109.35000         NaN     13.01 20:23  \n",
       " 23       NaN       NaN  34278.42000         NaN     13.01 20:23  \n",
       " 24       NaN       NaN      0.01355         NaN     13.01 20:23  \n",
       " 25       NaN       NaN    378.88000         NaN     13.01 20:23  \n",
       " 26       NaN       NaN    462.00000         NaN     13.01 20:23  \n",
       " 27       NaN       NaN     39.26000         NaN  25.06.14 18:36  \n",
       " 28       NaN       NaN     13.53000         NaN     14.01 00:00  \n",
       " 29       NaN       NaN  28128.44000         NaN     13.01 20:23  ]"
      ]
     },
     "execution_count": 10,
     "metadata": {},
     "output_type": "execute_result"
    }
   ],
   "source": [
    "df[:5]"
   ]
  }
 ],
 "metadata": {
  "kernelspec": {
   "display_name": "Python 3",
   "language": "python",
   "name": "python3"
  },
  "language_info": {
   "codemirror_mode": {
    "name": "ipython",
    "version": 3
   },
   "file_extension": ".py",
   "mimetype": "text/x-python",
   "name": "python",
   "nbconvert_exporter": "python",
   "pygments_lexer": "ipython3",
   "version": "3.8.3"
  }
 },
 "nbformat": 4,
 "nbformat_minor": 4
}
